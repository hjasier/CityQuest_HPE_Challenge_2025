{
 "cells": [
  {
   "cell_type": "markdown",
   "metadata": {},
   "source": [
    "# Sosteniblidad\n",
    "Ayuda me tiene esclavizado wuwn't"
   ]
  },
  {
   "cell_type": "code",
   "execution_count": 25,
   "metadata": {},
   "outputs": [],
   "source": [
    "import pandas as pd\n",
    "from sklearn.preprocessing import MinMaxScaler\n",
    "import matplotlib.pyplot as plt\n",
    "import seaborn as sns"
   ]
  },
  {
   "cell_type": "code",
   "execution_count": 26,
   "metadata": {},
   "outputs": [
    {
     "data": {
      "text/html": [
       "<div>\n",
       "<style scoped>\n",
       "    .dataframe tbody tr th:only-of-type {\n",
       "        vertical-align: middle;\n",
       "    }\n",
       "\n",
       "    .dataframe tbody tr th {\n",
       "        vertical-align: top;\n",
       "    }\n",
       "\n",
       "    .dataframe thead th {\n",
       "        text-align: right;\n",
       "    }\n",
       "</style>\n",
       "<table border=\"1\" class=\"dataframe\">\n",
       "  <thead>\n",
       "    <tr style=\"text-align: right;\">\n",
       "      <th></th>\n",
       "      <th>hotel_nombre</th>\n",
       "      <th>consumo_energia_kwh</th>\n",
       "      <th>residuos_generados_kg</th>\n",
       "      <th>porcentaje_reciclaje</th>\n",
       "      <th>uso_agua_m3</th>\n",
       "      <th>fecha</th>\n",
       "    </tr>\n",
       "  </thead>\n",
       "  <tbody>\n",
       "    <tr>\n",
       "      <th>0</th>\n",
       "      <td>Alletra Diamond Grand Hotel</td>\n",
       "      <td>3077</td>\n",
       "      <td>1821</td>\n",
       "      <td>73.5</td>\n",
       "      <td>4977</td>\n",
       "      <td>2019-01-01</td>\n",
       "    </tr>\n",
       "    <tr>\n",
       "      <th>1</th>\n",
       "      <td>ProLiant Towers</td>\n",
       "      <td>2253</td>\n",
       "      <td>1319</td>\n",
       "      <td>71.5</td>\n",
       "      <td>3145</td>\n",
       "      <td>2019-01-01</td>\n",
       "    </tr>\n",
       "    <tr>\n",
       "      <th>2</th>\n",
       "      <td>Aruba Luxury Lodge</td>\n",
       "      <td>3824</td>\n",
       "      <td>1672</td>\n",
       "      <td>89.7</td>\n",
       "      <td>4179</td>\n",
       "      <td>2019-01-01</td>\n",
       "    </tr>\n",
       "    <tr>\n",
       "      <th>3</th>\n",
       "      <td>InfoSight Boutique Hotel</td>\n",
       "      <td>1701</td>\n",
       "      <td>1070</td>\n",
       "      <td>82.7</td>\n",
       "      <td>4911</td>\n",
       "      <td>2019-01-01</td>\n",
       "    </tr>\n",
       "    <tr>\n",
       "      <th>4</th>\n",
       "      <td>Primera Grand</td>\n",
       "      <td>2970</td>\n",
       "      <td>1547</td>\n",
       "      <td>94.6</td>\n",
       "      <td>3907</td>\n",
       "      <td>2019-01-01</td>\n",
       "    </tr>\n",
       "    <tr>\n",
       "      <th>...</th>\n",
       "      <td>...</td>\n",
       "      <td>...</td>\n",
       "      <td>...</td>\n",
       "      <td>...</td>\n",
       "      <td>...</td>\n",
       "      <td>...</td>\n",
       "    </tr>\n",
       "    <tr>\n",
       "      <th>54795</th>\n",
       "      <td>Alletra Boutique Hotel</td>\n",
       "      <td>1293</td>\n",
       "      <td>1813</td>\n",
       "      <td>84.3</td>\n",
       "      <td>4061</td>\n",
       "      <td>2024-12-31</td>\n",
       "    </tr>\n",
       "    <tr>\n",
       "      <th>54796</th>\n",
       "      <td>Simplivity Golden Plaza Hotel</td>\n",
       "      <td>1675</td>\n",
       "      <td>1632</td>\n",
       "      <td>91.6</td>\n",
       "      <td>3290</td>\n",
       "      <td>2024-12-31</td>\n",
       "    </tr>\n",
       "    <tr>\n",
       "      <th>54797</th>\n",
       "      <td>Cray Villas</td>\n",
       "      <td>1817</td>\n",
       "      <td>1878</td>\n",
       "      <td>83.8</td>\n",
       "      <td>4688</td>\n",
       "      <td>2024-12-31</td>\n",
       "    </tr>\n",
       "    <tr>\n",
       "      <th>54798</th>\n",
       "      <td>Apollo Diamond Suites</td>\n",
       "      <td>2968</td>\n",
       "      <td>1519</td>\n",
       "      <td>76.7</td>\n",
       "      <td>3722</td>\n",
       "      <td>2024-12-31</td>\n",
       "    </tr>\n",
       "    <tr>\n",
       "      <th>54799</th>\n",
       "      <td>Apollo Towers</td>\n",
       "      <td>3906</td>\n",
       "      <td>1132</td>\n",
       "      <td>95.0</td>\n",
       "      <td>3532</td>\n",
       "      <td>2024-12-31</td>\n",
       "    </tr>\n",
       "  </tbody>\n",
       "</table>\n",
       "<p>54800 rows × 6 columns</p>\n",
       "</div>"
      ],
      "text/plain": [
       "                        hotel_nombre  consumo_energia_kwh  \\\n",
       "0        Alletra Diamond Grand Hotel                 3077   \n",
       "1                    ProLiant Towers                 2253   \n",
       "2                 Aruba Luxury Lodge                 3824   \n",
       "3           InfoSight Boutique Hotel                 1701   \n",
       "4                      Primera Grand                 2970   \n",
       "...                              ...                  ...   \n",
       "54795         Alletra Boutique Hotel                 1293   \n",
       "54796  Simplivity Golden Plaza Hotel                 1675   \n",
       "54797                    Cray Villas                 1817   \n",
       "54798          Apollo Diamond Suites                 2968   \n",
       "54799                  Apollo Towers                 3906   \n",
       "\n",
       "       residuos_generados_kg  porcentaje_reciclaje  uso_agua_m3       fecha  \n",
       "0                       1821                  73.5         4977  2019-01-01  \n",
       "1                       1319                  71.5         3145  2019-01-01  \n",
       "2                       1672                  89.7         4179  2019-01-01  \n",
       "3                       1070                  82.7         4911  2019-01-01  \n",
       "4                       1547                  94.6         3907  2019-01-01  \n",
       "...                      ...                   ...          ...         ...  \n",
       "54795                   1813                  84.3         4061  2024-12-31  \n",
       "54796                   1632                  91.6         3290  2024-12-31  \n",
       "54797                   1878                  83.8         4688  2024-12-31  \n",
       "54798                   1519                  76.7         3722  2024-12-31  \n",
       "54799                   1132                  95.0         3532  2024-12-31  \n",
       "\n",
       "[54800 rows x 6 columns]"
      ]
     },
     "execution_count": 26,
     "metadata": {},
     "output_type": "execute_result"
    }
   ],
   "source": [
    "sostenibilidad = pd.read_csv(\"datos_sostenibilidad.csv\")\n",
    "ocupacion = pd.read_csv(\"ocupacion_hotelera.csv\")\n",
    "\n",
    "sostenibilidad"
   ]
  },
  {
   "cell_type": "code",
   "execution_count": 27,
   "metadata": {},
   "outputs": [],
   "source": [
    "sostenibilidad[\"IndiceVerde\"] = (sostenibilidad[\"consumo_energia_kwh\"] * (sostenibilidad[\"porcentaje_reciclaje\"]/100)) / ( sostenibilidad[\"uso_agua_m3\"] + sostenibilidad[\"residuos_generados_kg\"] )"
   ]
  },
  {
   "cell_type": "markdown",
   "metadata": {},
   "source": [
    "La mayoria de los hoteres al parecer no son eficientes energeticamente ni son verdes al parecer"
   ]
  },
  {
   "cell_type": "code",
   "execution_count": 28,
   "metadata": {},
   "outputs": [
    {
     "data": {
      "image/png": "[encoded data removed]",
      "text/plain": [
       "<Figure size 640x480 with 1 Axes>"
      ]
     },
     "metadata": {},
     "output_type": "display_data"
    }
   ],
   "source": [
    "sns.histplot(data=sostenibilidad, x='IndiceVerde', kde=True, bins=30, color='green')\n",
    "\n",
    "# Personalizar\n",
    "plt.title('Distribución del Índice Verde')\n",
    "plt.xlabel('Índice Verde')\n",
    "plt.ylabel('Frecuencia')\n",
    "plt.tight_layout()"
   ]
  },
  {
   "cell_type": "code",
   "execution_count": null,
   "metadata": {},
   "outputs": [],
   "source": []
  }
 ],
 "metadata": {
  "kernelspec": {
   "display_name": "pytorch",
   "language": "python",
   "name": "python3"
  },
  "language_info": {
   "codemirror_mode": {
    "name": "ipython",
    "version": 3
   },
   "file_extension": ".py",
   "mimetype": "text/x-python",
   "name": "python",
   "nbconvert_exporter": "python",
   "pygments_lexer": "ipython3",
   "version": "3.12.3"
  }
 },
 "nbformat": 4,
 "nbformat_minor": 2
}
